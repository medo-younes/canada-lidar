{
 "cells": [
  {
   "cell_type": "code",
   "execution_count": 1,
   "id": "cfcc500a",
   "metadata": {},
   "outputs": [
    {
     "name": "stdout",
     "output_type": "stream",
     "text": [
      "EPSG:4617\n",
      "EPSG:4617\n",
      "3190\n"
     ]
    },
    {
     "name": "stderr",
     "output_type": "stream",
     "text": [
      "/home/younes/projects/canlidar/canlidar/canlidar.py:166: UserWarning: Geometry is in a geographic CRS. Results from 'centroid' are likely incorrect. Use 'GeoSeries.to_crs()' to re-project geometries to a projected CRS before this operation.\n",
      "\n",
      "  centroid = bbox_gdf.to_crs(4326).centroid.iloc[0]\n"
     ]
    },
    {
     "name": "stdout",
     "output_type": "stream",
     "text": [
      "QUERY SUMMARY\n",
      "=======================\n",
      "Address: 132, Rochester Avenue, Bridle Path-Sunnybrook-York Mills, Don Valley West, North York, Toronto, Golden Horseshoe, Ontario, M4N 1T2, Canada\n",
      "Query Area (km2): 3071.24\n",
      "Bounding Box Area: 656.34\n",
      "Number of Tiles: 3190\n",
      "LAZ File Count: 3190\n",
      "Available Years: [2014, 2015, 2019, 2023]\n"
     ]
    }
   ],
   "source": [
    "from canlidar import CanadaLIDAR\n",
    "import geopandas as gpd\n",
    "import geopy\n",
    "canl = CanadaLIDAR(project_name = \"TEST\")\n",
    "\n",
    "import os\n",
    "\n",
    "\n",
    "# query = canl.query_bbox(test=True, return_df = False)\n",
    "# query = canl.query_address(address='University of Waterloo, Ontario, Canada', distance_km = 0.5, return_df=False, year= None)\n",
    "query = canl.query_city('Toronto', return_df= False)\n",
    "\n",
    "canl.query_summary(query)\n"
   ]
  }
 ],
 "metadata": {
  "kernelspec": {
   "display_name": "groof",
   "language": "python",
   "name": "python3"
  },
  "language_info": {
   "codemirror_mode": {
    "name": "ipython",
    "version": 3
   },
   "file_extension": ".py",
   "mimetype": "text/x-python",
   "name": "python",
   "nbconvert_exporter": "python",
   "pygments_lexer": "ipython3",
   "version": "3.13.2"
  }
 },
 "nbformat": 4,
 "nbformat_minor": 5
}
