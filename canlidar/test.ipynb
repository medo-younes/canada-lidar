{
 "cells": [
  {
   "cell_type": "code",
   "execution_count": null,
   "id": "cfcc500a",
   "metadata": {},
   "outputs": [
    {
     "name": "stderr",
     "output_type": "stream",
     "text": [
      "/home/younes/projects/canada-lidar/canlidar/canlidar.py:184: UserWarning: Geometry is in a geographic CRS. Results from 'centroid' are likely incorrect. Use 'GeoSeries.to_crs()' to re-project geometries to a projected CRS before this operation.\n",
      "\n",
      "  centroid = bbox_gdf.to_crs(4326).centroid.iloc[0]\n"
     ]
    }
   ],
   "source": [
    "from canlidar import CanadaLIDAR\n",
    "import geopandas as gpd\n",
    "import geopy\n",
    "canl = CanadaLIDAR(project_name = \"TEST\")\n",
    "\n",
    "import os\n",
    "\n",
    "\n",
    "query = canl.query_bbox(test=True, return_df = False)\n",
    "query = canl.query_address(address='University of Waterloo, Ontario, Canada', distance_km = 0.5, return_df=False, year= None)\n",
    "query = canl.query_city('Toronto', return_df= False)\n",
    "\n",
    "# canl.query_summary(query)\n",
    "canl.download(query = query, # A query object \n",
    "              root = \"../laz_files\", # Root directory for writing LAZ files\n",
    "              clip = True, # Clips Point clouds according to the polygon passed by the query\n",
    "              merge = True, # Merge point clouds if true (reccomended only for smaller areas)\n",
    "              )"
   ]
  }
 ],
 "metadata": {
  "kernelspec": {
   "display_name": "groof",
   "language": "python",
   "name": "python3"
  },
  "language_info": {
   "codemirror_mode": {
    "name": "ipython",
    "version": 3
   },
   "file_extension": ".py",
   "mimetype": "text/x-python",
   "name": "python",
   "nbconvert_exporter": "python",
   "pygments_lexer": "ipython3",
   "version": "3.13.2"
  }
 },
 "nbformat": 4,
 "nbformat_minor": 5
}
