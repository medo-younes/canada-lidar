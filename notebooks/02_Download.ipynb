{
 "cells": [
  {
   "cell_type": "markdown",
   "id": "380b9697",
   "metadata": {},
   "source": [
    "# PyCanLiDAR - Simple Python API for Canadian LiDAR Data\n",
    "\n",
    "The CanLiDAR project is an unofficial pythonic API to query LiDAR point cloud from the [CanElevation Series](https://open.canada.ca/data/en/dataset/7069387e-9986-4297-9f55-0288e9676947) published by the Government of Canada.\n",
    "\n",
    "LiDAR Data of urban and natural areas are made available as [LAZ Cloud Optimized Point Clouds (COPC) on AWS S3](https://canelevation-lidar-point-clouds.s3.ca-central-1.amazonaws.com/pointclouds_nuagespoints/index.html#pointclouds_nuagespoints/). \n",
    "\n",
    "The PyCanLiDAR project allows users to create queries based on:\n",
    "- Bounding Box or Polygon\n",
    "- Address\n",
    "- City Name\n",
    "- Year (nearest year of data available will be approximated)\n",
    "\n",
    "All responses are JSON objects containing necessary metadata and URLs for accessing point clouds for their region of interest. JSON was chosen as the standard reponse format to enable simple integrations into web applications. Download functionalities are available with options to clip the point cloud tiles or to download the entire tile.\n"
   ]
  },
  {
   "cell_type": "markdown",
   "id": "ddc0b29b",
   "metadata": {},
   "source": [
    "## Initialize CanadaLIDAR object"
   ]
  },
  {
   "cell_type": "code",
   "execution_count": 1,
   "id": "c8f0fb9b",
   "metadata": {},
   "outputs": [],
   "source": [
    "import sys\n",
    "sys.path.append('../canlidar')\n",
    "\n",
    "from canlidar import CanadaLiDAR\n",
    "cnl = CanadaLiDAR(project_name = \"MY-PROJECT\")"
   ]
  },
  {
   "cell_type": "markdown",
   "id": "961c9b7e",
   "metadata": {},
   "source": [
    "## Make a Query and Download LAZ Files"
   ]
  },
  {
   "cell_type": "code",
   "execution_count": 2,
   "id": "87e612e6",
   "metadata": {},
   "outputs": [
    {
     "name": "stderr",
     "output_type": "stream",
     "text": [
      "/home/younes/projects/canada-lidar/notebooks/../canlidar/canlidar.py:194: UserWarning: Geometry is in a geographic CRS. Results from 'centroid' are likely incorrect. Use 'GeoSeries.to_crs()' to re-project geometries to a projected CRS before this operation.\n",
      "\n",
      "  centroid = bbox_gdf_4326.centroid.iloc[0]\n"
     ]
    },
    {
     "name": "stdout",
     "output_type": "stream",
     "text": [
      "=======================\n",
      "QUERY SUMMARY\n",
      "=======================\n",
      "Address: 274, Friel Street, Sandy Hill, Rideau-Vanier, Ottawa, Eastern Ontario, Ontario, K1N 6M3, Canada\n",
      "Query Area (km2): 11.98\n",
      "Bounding Box Area: 5.57\n",
      "Number of Tiles: 12\n",
      "LAZ File Count: 12\n",
      "Available Years: [2020]\n"
     ]
    }
   ],
   "source": [
    "import geopandas as gpd\n",
    "from shapely.geometry import box\n",
    "\n",
    "\n",
    "# Polygon or MultiPolygon GeoDataFrame\n",
    "gdf = cnl.test_polygon()\n",
    "\n",
    "query = cnl.query_polygon(test=True ,year = 2023)\n",
    "cnl.query_summary(query)\n"
   ]
  },
  {
   "cell_type": "markdown",
   "id": "49f172f1",
   "metadata": {},
   "source": [
    "## Downloading\n",
    "\n",
    "\n"
   ]
  },
  {
   "cell_type": "markdown",
   "id": "8d6015c5",
   "metadata": {},
   "source": [
    "<div style=\"background-color: #e7f3ff; border-left: 6px solid #2196F3; margin: 20px 0; padding: 20px; color: black;\">\n",
    "    <strong>📝 Note:</strong> It is reccomended to clip downloaded LAZ files to your area of extent to avoid large file sizes\n",
    "</div>"
   ]
  },
  {
   "cell_type": "code",
   "execution_count": null,
   "id": "1a8176cc",
   "metadata": {},
   "outputs": [],
   "source": [
    "cnl.download( \n",
    "                query = query, # A query object \n",
    "                root = \"../lidar_data\", # Root directory for writing LAZ files\n",
    "                clip = True, # Clips Point clouds according to the polygon passed by the query\n",
    "                merge_all = True, # Merge point clouds if True, indiviudal LAZ files will be downloaded if False\n",
    "              )"
   ]
  }
 ],
 "metadata": {
  "kernelspec": {
   "display_name": "py-canlidar",
   "language": "python",
   "name": "python3"
  },
  "language_info": {
   "codemirror_mode": {
    "name": "ipython",
    "version": 3
   },
   "file_extension": ".py",
   "mimetype": "text/x-python",
   "name": "python",
   "nbconvert_exporter": "python",
   "pygments_lexer": "ipython3",
   "version": "3.11.13"
  }
 },
 "nbformat": 4,
 "nbformat_minor": 5
}
